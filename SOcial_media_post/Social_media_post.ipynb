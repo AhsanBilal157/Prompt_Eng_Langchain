{
 "cells": [
  {
   "cell_type": "markdown",
   "metadata": {},
   "source": [
    "Load All dependencies and evn variables"
   ]
  },
  {
   "cell_type": "code",
   "execution_count": 23,
   "metadata": {},
   "outputs": [],
   "source": [
    "from langchain.prompts import ChatPromptTemplate , PromptTemplate\n",
    "from langchain_community.llms import Ollama\n",
    "from langchain_core.output_parsers import StrOutputParser\n",
    "import os\n",
    "from dotenv import load_dotenv\n",
    "\n",
    "load_dotenv()\n",
    "\n",
    "\n",
    "os.environ[\"LANGCHAIN_TRACING_V2\"]=\"true\"\n",
    "os.environ[\"LANGCHAIN_API_KEY\"]=os.getenv(\"LANGCHAIN_API_KEY\")\n"
   ]
  },
  {
   "cell_type": "markdown",
   "metadata": {},
   "source": [
    "Load Ollama Gemma2 model"
   ]
  },
  {
   "cell_type": "code",
   "execution_count": 18,
   "metadata": {},
   "outputs": [],
   "source": [
    "\n",
    "model = Ollama(model=\"gemma2\")\n",
    "\n",
    "output = StrOutputParser()"
   ]
  },
  {
   "cell_type": "markdown",
   "metadata": {},
   "source": [
    "Define system and user prompt"
   ]
  },
  {
   "cell_type": "code",
   "execution_count": 19,
   "metadata": {},
   "outputs": [],
   "source": [
    "system_prompt = \"\"\"\n",
    "You are a social media content creator specializing in crafting professional success story posts for LinkedIn. You have been provided with a set of questionnaire answers detailing a specific case study or transformation story. Your task is to create an engaging LinkedIn post with emojis based on these answers. The post should follow this structure:\n",
    "\n",
    "1. **Hook and Statistic:** Start with an engaging statistic or fact that relates to the case study.\n",
    "2. **Introduction to the Case Study:** Briefly introduce the collaboration between the two companies and the main objective.\n",
    "3. **Key Achievements and Features (Bullet Points):** Highlight the main results and benefits of the collaboration in the form of concise bullet points.\n",
    "4. **Call-to-Action:** Encourage readers to join or learn more, including a relevant hashtag and URL if provided.\n",
    "5. **Professional Tone and Style:** Ensure the tone is professional, and the achievements are clearly written in the form of points.\n",
    "\n",
    "\"\"\"\n",
    "\n",
    "# Define the user prompt template with placeholders\n",
    "user_prompt_template = \"\"\"\n",
    "Can you describe the specific case study or transformation story you want to share?\n",
    "{case_study}\n",
    "\n",
    "What challenge or problem was addressed in this case?\n",
    "{challenge}\n",
    "\n",
    "What were the key results or outcomes achieved in this story?\n",
    "{key_results}\n",
    "\n",
    "Are there any data, quotes, or testimonials that illustrate the impact?\n",
    "{impact_data}\n",
    "\n",
    "Is there a specific call-to-action?\n",
    "{call_to_action}\n",
    "\n",
    "Are there any specific hashtags you’d like to include?\n",
    "{hashtags}\n",
    "\n",
    "Describe your desired tone and style.\n",
    "{tone_and_style}\n",
    "\"\"\"\n",
    "\n",
    "\n",
    "# Define the final PromptTemplate\n",
    "final_prompt_template = ChatPromptTemplate.from_messages([\n",
    "    (\"system\", system_prompt),\n",
    "    (\"user\", user_prompt_template)\n",
    "])"
   ]
  },
  {
   "cell_type": "markdown",
   "metadata": {},
   "source": [
    "Use case 1 user data "
   ]
  },
  {
   "cell_type": "code",
   "execution_count": 21,
   "metadata": {},
   "outputs": [
    {
     "name": "stdout",
     "output_type": "stream",
     "text": [
      "Did you know that 75% of classroom-style training is forgotten if it's not implemented within 6 days?  😱  \n",
      "\n",
      "That's why Sodexo turned to CoachHub to revolutionize leadership development across their APMEA region! 🚀 Together, we designed scalable coaching programs powered by AI and analytics to ensure knowledge retention and real-world application.  🧠🤝\n",
      "\n",
      "Here's how our collaboration made a difference:\n",
      "\n",
      "* **Improved Knowledge Retention:**  AI-powered coaching tools helped employees retain information and apply new skills effectively.\n",
      "* **Enhanced Leadership Skills:** Targeted coaching programs developed crucial leadership competencies across diverse teams. 💪\n",
      "* **Increased Employee Engagement:** Personalized coaching experiences fostered motivation and a sense of growth within the APMEA workforce. 📈\n",
      "\n",
      "Ready to unlock your potential?  Join thousands of coachees like Sodexo's Head of FMCG Accounts, Jean Baptiste CALEMARD, on a journey of growth and transformation! #ExploreTheGreaterYou  ➡️ https://bit.ly/3LMxIHg\n",
      "\n",
      "\n",
      "\n",
      "\n"
     ]
    }
   ],
   "source": [
    "chain = final_prompt_template | model | output\n",
    "\n",
    "# input_text=input(\"Search the topic u want\")\n",
    "# print(input_text)\n",
    "# Define the user answers\n",
    "user_answers = {\n",
    "    \"case_study\": \"successful collaboration between Sodexo and CoachHub to accelerate leadership development across the APMEA region.\",\n",
    "    \"challenge\": \"The challenge addressed in this case was the need for scalable leadership development programs that could effectively engage and develop employees across diverse geographic regions, particularly in the Asia Pacific, Middle East, and Africa (APMEA).\",\n",
    "    \"key_results\": \"The key results achieved in this story include the implementation of scalable coaching programs powered by AI and analytics, which led to improved knowledge retention, enhanced leadership skills, and increased employee engagement across the APMEA region.\",\n",
    "    \"impact_data\": \"75% of classroom-style training is forgotten if it's not implemented within 6 days after.\",\n",
    "    \"call_to_action\": \"Join thousands of coachees like Sodexo's Head of FMCG Accounts, Jean Baptiste CALEMARD, on a journey of growth and transformation to explore the greater you.\",\n",
    "    \"hashtags\": \"#ExploreTheGreaterYou https://bit.ly/3LMxIHg\",\n",
    "    \"tone_and_style\": \"professional and make sure to write the achievements in the form of points.\"\n",
    "}\n",
    "\n",
    "\n",
    "# Generate the social media post\n",
    "response = chain.invoke(user_answers)\n",
    "print(response)"
   ]
  },
  {
   "cell_type": "markdown",
   "metadata": {},
   "source": [
    "Use case 2 user data "
   ]
  },
  {
   "cell_type": "code",
   "execution_count": 22,
   "metadata": {},
   "outputs": [
    {
     "name": "stdout",
     "output_type": "stream",
     "text": [
      "🚀 **Did you know that inefficient supply chains cost businesses globally over $1 trillion annually?** 🤯\n",
      "\n",
      "Acme Corp faced this challenge head-on, partnering with InnovateX to revolutionize their supply chain management across Europe and North America.  Their goal: optimize operations for reduced costs, increased efficiency, and unparalleled service across diverse markets. 💪\n",
      "\n",
      "The results speak for themselves:\n",
      "\n",
      "* **20% Reduction in Logistics Costs:** Streamlined processes directly impacted the bottom line. 💰\n",
      "* **15% Increase in Delivery Speed:** Faster delivery times met customer expectations and boosted satisfaction. ⚡\n",
      "* **10% Improvement in Customer Satisfaction:** Happy customers are the ultimate measure of success! 😄\n",
      "\n",
      "\"InnovateX's solutions allowed us to streamline our operations, significantly cutting down our delivery times and operational costs,\" said Jane Doe, Head of Logistics at Acme Corp.  \n",
      "\n",
      "Ready to unlock your supply chain's potential? 🚀 Discover how Acme Corp transformed their operations and see how your company can achieve similar results! 👉 https://bit.ly/3LMxIHg #SupplyChainRevolution \n",
      "\n",
      "\n",
      "\n"
     ]
    }
   ],
   "source": [
    "chain = final_prompt_template | model | output\n",
    "\n",
    "# input_text=input(\"Search the topic u want\")\n",
    "# print(input_text)\n",
    "# Define the user answers\n",
    "user_answers = {\n",
    "    \"case_study\": \"Successful partnership between Acme Corp and InnovateX to revolutionize their supply chain management across Europe and North America\",\n",
    "    \"challenge\": \"The primary challenge was optimizing the supply chain to reduce costs and improve efficiency while maintaining high standards of service across diverse markets\",\n",
    "    \"key_results\": \"The collaboration resulted in a 20% reduction in logistics costs, a 15% increase in delivery speed, and a 10% improvement in customer satisfaction across key regions.\",\n",
    "    \"impact_data\": \"InnovateX's solutions allowed us to streamline our operations, significantly cutting down our delivery times and operational costs, said Jane Doe, Head of Logistics at Acme Corp.\",\n",
    "    \"call_to_action\": \"Discover how Acme Corp transformed their supply chain and see how your company can achieve similar results. Contact us today!\",\n",
    "    \"hashtags\": \"#SupplyChainRevolution https://bit.ly/3LMxIHg\",\n",
    "    \"tone_and_style\": \"Professional with a focus on quantitative achievements and real-world impact.\"\n",
    "}\n",
    "\n",
    "\n",
    "# Generate the social media post\n",
    "response = chain.invoke(user_answers)\n",
    "print(response)"
   ]
  },
  {
   "cell_type": "code",
   "execution_count": null,
   "metadata": {},
   "outputs": [],
   "source": []
  }
 ],
 "metadata": {
  "kernelspec": {
   "display_name": "venv",
   "language": "python",
   "name": "python3"
  },
  "language_info": {
   "codemirror_mode": {
    "name": "ipython",
    "version": 3
   },
   "file_extension": ".py",
   "mimetype": "text/x-python",
   "name": "python",
   "nbconvert_exporter": "python",
   "pygments_lexer": "ipython3",
   "version": "3.8.12"
  }
 },
 "nbformat": 4,
 "nbformat_minor": 2
}
